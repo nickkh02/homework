{
 "cells": [
  {
   "cell_type": "markdown",
   "metadata": {},
   "source": [
    "1\\. Скачайте из папки с домашними заданиями английский текст первой книги о Гарри Поттере. Он должен быть сохранен отдельным файлом"
   ]
  },
  {
   "cell_type": "markdown",
   "metadata": {},
   "source": [
    "2\\.1\\. Очистите текст от пунктуации, приведите его к нижнему регистру, лемматизируйте и запишите в новый файл."
   ]
  },
  {
   "cell_type": "code",
   "execution_count": 24,
   "metadata": {},
   "outputs": [],
   "source": [
    "import re \n",
    "import spacy\n",
    "nlp = spacy.load('en')\n",
    "\n",
    "with open(\"Harry_Potter_and_the_Sorcerers_Stone.txt\", \"r+\", encoding=\"utf-8\") as f, open(\"result.txt\", \"w+\", encoding=\"utf-8\") as g:\n",
    "    povar = f.read()\n",
    "    h1 = re.sub('[\\'!\\\"#$%&()*+,-./:;<=>?@[\\]^_`{|}~„“«»†*—/\\-\"]', '', povar)\n",
    "    h2 = h1.lower()\n",
    "    h3 = nlp(h2)\n",
    "    lemmas = [token.lemma_ for token in h3 if not token.is_stop]\n",
    "    for lemm in lemmas:\n",
    "        g.write(\"%s\\n\" % lemm)"
   ]
  },
  {
   "cell_type": "markdown",
   "metadata": {},
   "source": [
    "2\\.2\\. Проверьте, выполняется ли здесь закон Ципфа. Для этого постройте линейную диаграмму, где по оси Х будет ранг (порядковый номер) слова в отсортированном по убыванию частотном словаре, а по оси Y - относительная частота (абсолютная частота, разделенная на количество слов в тексте). Т.е. у самого частотного слова будет ранг 1, у второго по частоте -- 2 и т.д."
   ]
  },
  {
   "cell_type": "code",
   "execution_count": 193,
   "metadata": {},
   "outputs": [],
   "source": [
    "import re\n",
    "from operator import itemgetter\n",
    "from collections import Counter\n",
    "#from collections import defaultdict\n",
    "\n",
    "frequency = {}\n",
    "open_file = open('result.txt', 'r')\n",
    "file_to_string = open_file.read()\n",
    "words = re.findall(r'(\\b[A-Za-z][a-z]{2,20}\\b)', file_to_string)\n",
    " \n",
    "os_x = {}\n",
    "os_y = {}\n",
    "\n",
    "for word in words:\n",
    "    count = frequency.get(word,0)\n",
    "    frequency[word] = count + 1\n",
    "\n",
    "for key, value in reversed(sorted(frequency.items(), key = itemgetter(1))):\n",
    "    if key in os_x:\n",
    "        pass\n",
    "    else:\n",
    "        os_x[key] = 0\n",
    "\n",
    "os_x = {key: rank for rank, key in enumerate(sorted(os_x, key=os_x.get), 1)}\n",
    "\n",
    "for key, value in reversed(sorted(frequency.items(), key = itemgetter(1))):\n",
    "    otn = value/len(words)\n",
    "    os_y[key] = otn"
   ]
  },
  {
   "cell_type": "code",
   "execution_count": 194,
   "metadata": {},
   "outputs": [
    {
     "data": {
      "image/png": "[encoded data removed]",
      "text/plain": [
       "<Figure size 432x288 with 1 Axes>"
      ]
     },
     "metadata": {},
     "output_type": "display_data"
    }
   ],
   "source": [
    "import matplotlib\n",
    "import matplotlib.pyplot as plt\n",
    "\n",
    "plt.plot(list(os_x.values()), list(os_y.values()))\n",
    "plt.xlabel(\"Ранг\")\n",
    "plt.ylabel(\"Частота\")\n",
    "plt.show()"
   ]
  },
  {
   "cell_type": "markdown",
   "metadata": {},
   "source": [
    "3\\. Очистите текст от стоп-слов. Постройте barplot для 30 самых частотных слов. Эти слова должны быть по оси Х в виде подписей к делениям. Значениями по этой оси будет ряд чисел от 0 до 30."
   ]
  },
  {
   "cell_type": "code",
   "execution_count": null,
   "metadata": {},
   "outputs": [],
   "source": []
  }
 ],
 "metadata": {
  "kernelspec": {
   "display_name": "Python 3",
   "language": "python",
   "name": "python3"
  },
  "language_info": {
   "codemirror_mode": {
    "name": "ipython",
    "version": 3
   },
   "file_extension": ".py",
   "mimetype": "text/x-python",
   "name": "python",
   "nbconvert_exporter": "python",
   "pygments_lexer": "ipython3",
   "version": "3.7.1rc1"
  }
 },
 "nbformat": 4,
 "nbformat_minor": 2
}
