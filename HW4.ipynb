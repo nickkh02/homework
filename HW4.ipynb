{
 "cells": [
  {
   "cell_type": "markdown",
   "metadata": {},
   "source": [
    "1\\. Скачайте из папки с домашними заданиями английский текст первой книги о Гарри Поттере. Он должен быть сохранен отдельным файлом"
   ]
  },
  {
   "cell_type": "markdown",
   "metadata": {},
   "source": [
    "2\\.1\\. Очистите текст от пунктуации, приведите его к нижнему регистру, лемматизируйте и запишите в новый файл."
   ]
  },
  {
   "cell_type": "code",
   "execution_count": 16,
   "metadata": {},
   "outputs": [],
   "source": [
    "# Импортирую модули\n",
    "import re \n",
    "import spacy\n",
    "# Подгружаю английский для спейси\n",
    "nlp = spacy.load('en')\n",
    "\n",
    "# Открываю файл для чтения и для записи\n",
    "with open(\"Harry_Potter_and_the_Sorcerers_Stone.txt\", \"r+\", encoding=\"utf-8\") as f, open(\"result.txt\", \"w+\", encoding=\"utf-8\") as g:\n",
    "    povar = f.read()\n",
    "    # Очищаю от лишней пунктуации и делаю один низкий регистр\n",
    "    h1 = re.sub('[\\'!\\\"#$%&()*+,-./:;<=>?@[\\]^_`{|}~„“«»†*—/\\-\"]', '', povar)\n",
    "    h2 = h1.lower()\n",
    "    h3 = nlp(h2)\n",
    "    # Лемматизирую \n",
    "    lemmas = [token.lemma_ for token in h3 if not token.is_stop]\n",
    "    for lemm in lemmas:\n",
    "        # Записываю в новый файл\n",
    "        g.write(\"%s\\n\" % lemm)"
   ]
  },
  {
   "cell_type": "markdown",
   "metadata": {},
   "source": [
    "2\\.2\\. Проверьте, выполняется ли здесь закон Ципфа. Для этого постройте линейную диаграмму, где по оси Х будет ранг (порядковый номер) слова в отсортированном по убыванию частотном словаре, а по оси Y - относительная частота (абсолютная частота, разделенная на количество слов в тексте). Т.е. у самого частотного слова будет ранг 1, у второго по частоте -- 2 и т.д."
   ]
  },
  {
   "cell_type": "code",
   "execution_count": 17,
   "metadata": {},
   "outputs": [],
   "source": [
    "# Импортирую модули\n",
    "import re\n",
    "from operator import itemgetter\n",
    "from collections import Counter\n",
    "\n",
    "# Это нам понадобится для подсчета слов чуть позже\n",
    "frequency = {}\n",
    "\n",
    "# Открываю файл и высчитываю в нем все слова при помощи регулярных выражений\n",
    "open_file = open('result.txt', 'r')\n",
    "file_to_string = open_file.read()\n",
    "words = re.findall(r'(\\b[A-Za-z][a-z]{2,20}\\b)', file_to_string)\n",
    " \n",
    "# Сюда будут записываться значения для построения линейной диаграммы    \n",
    "os_x = {} # Для слов и их порядковых номеров (рангов)\n",
    "os_y = {} # Для относительной частоты\n",
    "\n",
    "# При помощи этого простенького цикла подсчитываю количество слов\n",
    "for word in words:\n",
    "    count = frequency.get(word,0)\n",
    "    frequency[word] = count + 1\n",
    "\n",
    "# При помощи этого цикла я по убыванию записываю в словарь слова     \n",
    "for key, value in reversed(sorted(frequency.items(), key = itemgetter(1))):\n",
    "    if key in os_x:\n",
    "        pass\n",
    "    else:\n",
    "        os_x[key] = 0\n",
    "        \n",
    "# А с помощью этого - присваиваю к каждому порядковый номер\n",
    "os_x = {key: rank for rank, key in enumerate(sorted(os_x, key=os_x.get), 1)}\n",
    "\n",
    "# Тут я, повторяя конструкцию из прошлого домашнего задания, высчитываю относительную частоту\n",
    "for key, value in reversed(sorted(frequency.items(), key = itemgetter(1))):\n",
    "    otn = value/len(words)\n",
    "    os_y[key] = otn"
   ]
  },
  {
   "cell_type": "code",
   "execution_count": 18,
   "metadata": {},
   "outputs": [
    {
     "data": {
      "image/png": "[encoded data removed]",
      "text/plain": [
       "<Figure size 432x288 with 1 Axes>"
      ]
     },
     "metadata": {},
     "output_type": "display_data"
    }
   ],
   "source": [
    "# Импорт модулей для построения диаграммы\n",
    "import matplotlib\n",
    "import matplotlib.pyplot as plt\n",
    "\n",
    "# Присуждаю осям X и Y значения из предыдущего блока\n",
    "plt.plot(list(os_x.values()), list(os_y.values()))\n",
    "# Называю их во избежание путаницы\n",
    "plt.xlabel(\"Ранг\")\n",
    "plt.ylabel(\"Частота\")\n",
    "# Вывожу результат на экран\n",
    "plt.show()"
   ]
  },
  {
   "cell_type": "markdown",
   "metadata": {},
   "source": [
    "3\\. Очистите текст от стоп-слов. Постройте barplot для 30 самых частотных слов. Эти слова должны быть по оси Х в виде подписей к делениям. Значениями по этой оси будет ряд чисел от 0 до 30."
   ]
  },
  {
   "cell_type": "code",
   "execution_count": 19,
   "metadata": {},
   "outputs": [],
   "source": [
    "# Сначала перевожу в словарь список подсчитанных слов\n",
    "chast = dict(Counter(words))\n",
    "\n",
    "# Теперь сортирую их в обратном порядке\n",
    "chast_sorted = (dict(sorted(chast.items(), key=lambda x: x[1], reverse=True)))\n",
    "\n",
    "# Делаю список со словами для оси X\n",
    "slova = list(chast_sorted.keys()) \n",
    "\n",
    "# Делаю список со частотностью употребления для оси Y \n",
    "kakchasto = list(chast_sorted.values())"
   ]
  },
  {
   "cell_type": "code",
   "execution_count": 20,
   "metadata": {},
   "outputs": [
    {
     "data": {
      "image/png": "[encoded data removed]",
      "text/plain": [
       "<Figure size 432x288 with 1 Axes>"
      ]
     },
     "metadata": {},
     "output_type": "display_data"
    }
   ],
   "source": [
    "# Помечаю, что нужны только первые 30 значений из списков\n",
    "X = [i for i in range(0,30)] \n",
    "Y = kakchasto[:30] \n",
    "\n",
    "# Даю команду\n",
    "plt.bar(X, Y)\n",
    "\n",
    "# Делаю разворот, чтобы было красиво\n",
    "plt.xticks(X, slova, rotation=90)\n",
    "\n",
    "# Даю названия\n",
    "plt.title(\"30 самых частотных слов\")\n",
    "plt.xlabel(\"Слова\")\n",
    "plt.ylabel(\"Частота упоминаний\")\n",
    "\n",
    "# Вывожу на экран\n",
    "plt.show()"
   ]
  }
 ],
 "metadata": {
  "kernelspec": {
   "display_name": "Python 3",
   "language": "python",
   "name": "python3"
  },
  "language_info": {
   "codemirror_mode": {
    "name": "ipython",
    "version": 3
   },
   "file_extension": ".py",
   "mimetype": "text/x-python",
   "name": "python",
   "nbconvert_exporter": "python",
   "pygments_lexer": "ipython3",
   "version": "3.7.1rc1"
  }
 },
 "nbformat": 4,
 "nbformat_minor": 2
}
