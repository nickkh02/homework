{
 "cells": [
  {
   "cell_type": "markdown",
   "metadata": {},
   "source": [
    "# # ДЗ2\n"
   ]
  },
  {
   "cell_type": "markdown",
   "metadata": {},
   "source": [
    "# Задание 1\n",
    "\n",
    "Дан текст (можно взять любой, необязательно этот):\n",
    "\n",
    "    варкалось хливкие шорьки пырялись по наве и хрюкотали зелюки как мюмзики в мове о бойся бармаглота сын он так свирлеп и дик  а в глyще рымит исполин злопастный брандашмыг\n",
    "\t\n",
    "Необходимо выделить все биграммы в этом тексте и сохранить их список в какую-либо переменную. Биграммы -- это пары стоящих рядом слов, например, \"варкалось хливкие\", \"хливкие шорьки\" и т.д.!"
   ]
  },
  {
   "cell_type": "code",
   "execution_count": 77,
   "metadata": {},
   "outputs": [
    {
     "name": "stdout",
     "output_type": "stream",
     "text": [
      "[('варкалось', 'хливкие'), ('хливкие', 'шорьки'), ('шорьки', 'пырялись'), ('пырялись', 'по'), ('по', 'наве'), ('наве', 'и'), ('и', 'хрюкотали'), ('хрюкотали', 'зелюки'), ('зелюки', 'как'), ('как', 'мюмзики'), ('мюмзики', 'в'), ('в', 'мове'), ('мове', 'о'), ('о', 'бойся'), ('бойся', 'бармаглота'), ('бармаглота', 'сын'), ('сын', 'он'), ('он', 'так'), ('так', 'свирлеп'), ('свирлеп', 'и'), ('и', 'дик'), ('дик', 'а'), ('а', 'в'), ('в', 'глyще'), ('глyще', 'рымит'), ('рымит', 'исполин'), ('исполин', 'злопастный'), ('злопастный', 'брандашмыг')]\n"
     ]
    }
   ],
   "source": [
    "text = 'варкалось хливкие шорьки пырялись по наве и хрюкотали зелюки как мюмзики в мове о бойся бармаглота сын он так свирлеп и дик а в глyще рымит исполин злопастный брандашмыг'\n",
    "\n",
    "# разбиваю текст из списка на слова\n",
    "words = text.split() \n",
    "\n",
    "# Переменная, в которую будет все записываться\n",
    "bgrm = []\n",
    "\n",
    "# Цикл for проходит по каждому элементу\n",
    "for i in range(len(words)-1):\n",
    "# Append прикрепляет к этому элементу следующий из списка\n",
    "    bgrm.append((words[i], words[i+1]))\n",
    "\n",
    "# Демонстрация результата\n",
    "print(bgrm)"
   ]
  },
  {
   "cell_type": "markdown",
   "metadata": {},
   "source": [
    "# Задание 2\n",
    "\n",
    "1. Если вы не делали git pull или git clone: cкачать архив с текстовыми файлами отсюда и распаковать его. Если делали, то все нужные файлы уже есть в папке poems.\n",
    "2. Распечатать текущую директорию и список всех файлов и папок в ней. Посчитать и распечатать количество файлов."
   ]
  },
  {
   "cell_type": "code",
   "execution_count": 326,
   "metadata": {},
   "outputs": [
    {
     "name": "stdout",
     "output_type": "stream",
     "text": [
      "C:\\Users\\Temen-ni-gru\\Desktop\\Пiтончик\\repo\\homework\\.gitignore\n",
      "C:\\Users\\Temen-ni-gru\\Desktop\\Пiтончик\\repo\\homework\\HW1.ipynb\n",
      "C:\\Users\\Temen-ni-gru\\Desktop\\Пiтончик\\repo\\homework\\HW2.ipynb\n",
      "C:\\Users\\Temen-ni-gru\\Desktop\\Пiтончик\\repo\\homework\\poem.txt\n",
      "C:\\Users\\Temen-ni-gru\\Desktop\\Пiтончик\\repo\\homework\\README.md\n",
      "C:\\Users\\Temen-ni-gru\\Desktop\\Пiтончик\\repo\\homework\\.git\\config\n",
      "C:\\Users\\Temen-ni-gru\\Desktop\\Пiтончик\\repo\\homework\\.git\\description\n",
      "C:\\Users\\Temen-ni-gru\\Desktop\\Пiтончик\\repo\\homework\\.git\\FETCH_HEAD\n",
      "C:\\Users\\Temen-ni-gru\\Desktop\\Пiтончик\\repo\\homework\\.git\\HEAD\n",
      "C:\\Users\\Temen-ni-gru\\Desktop\\Пiтончик\\repo\\homework\\.git\\index\n",
      "C:\\Users\\Temen-ni-gru\\Desktop\\Пiтончик\\repo\\homework\\.git\\ORIG_HEAD\n",
      "C:\\Users\\Temen-ni-gru\\Desktop\\Пiтончик\\repo\\homework\\.git\\packed-refs\n",
      "C:\\Users\\Temen-ni-gru\\Desktop\\Пiтончик\\repo\\homework\\.git\\hooks\\applypatch-msg.sample\n",
      "C:\\Users\\Temen-ni-gru\\Desktop\\Пiтончик\\repo\\homework\\.git\\hooks\\commit-msg.sample\n",
      "C:\\Users\\Temen-ni-gru\\Desktop\\Пiтончик\\repo\\homework\\.git\\hooks\\fsmonitor-watchman.sample\n",
      "C:\\Users\\Temen-ni-gru\\Desktop\\Пiтончик\\repo\\homework\\.git\\hooks\\post-update.sample\n",
      "C:\\Users\\Temen-ni-gru\\Desktop\\Пiтончик\\repo\\homework\\.git\\hooks\\pre-applypatch.sample\n",
      "C:\\Users\\Temen-ni-gru\\Desktop\\Пiтончик\\repo\\homework\\.git\\hooks\\pre-commit.sample\n",
      "C:\\Users\\Temen-ni-gru\\Desktop\\Пiтончик\\repo\\homework\\.git\\hooks\\pre-push.sample\n",
      "C:\\Users\\Temen-ni-gru\\Desktop\\Пiтончик\\repo\\homework\\.git\\hooks\\pre-rebase.sample\n",
      "C:\\Users\\Temen-ni-gru\\Desktop\\Пiтончик\\repo\\homework\\.git\\hooks\\pre-receive.sample\n",
      "C:\\Users\\Temen-ni-gru\\Desktop\\Пiтончик\\repo\\homework\\.git\\hooks\\prepare-commit-msg.sample\n",
      "C:\\Users\\Temen-ni-gru\\Desktop\\Пiтончик\\repo\\homework\\.git\\hooks\\update.sample\n",
      "C:\\Users\\Temen-ni-gru\\Desktop\\Пiтончик\\repo\\homework\\.git\\info\\exclude\n",
      "C:\\Users\\Temen-ni-gru\\Desktop\\Пiтончик\\repo\\homework\\.git\\logs\\HEAD\n",
      "C:\\Users\\Temen-ni-gru\\Desktop\\Пiтончик\\repo\\homework\\.git\\logs\\refs\\heads\\master\n",
      "C:\\Users\\Temen-ni-gru\\Desktop\\Пiтончик\\repo\\homework\\.git\\logs\\refs\\remotes\\origin\\HEAD\n",
      "C:\\Users\\Temen-ni-gru\\Desktop\\Пiтончик\\repo\\homework\\.git\\logs\\refs\\remotes\\origin\\master\n",
      "C:\\Users\\Temen-ni-gru\\Desktop\\Пiтончик\\repo\\homework\\.git\\objects\\01\\c28b0f2ea86820e970f26f94a675a52add4f44\n",
      "C:\\Users\\Temen-ni-gru\\Desktop\\Пiтончик\\repo\\homework\\.git\\objects\\05\\2ec864cd2fe624fe8802e3906c25a4392f22fa\n",
      "C:\\Users\\Temen-ni-gru\\Desktop\\Пiтончик\\repo\\homework\\.git\\objects\\05\\d7ec8daf639ac6c3674c61537182aa2d4db3bb\n",
      "C:\\Users\\Temen-ni-gru\\Desktop\\Пiтончик\\repo\\homework\\.git\\objects\\06\\27c32283f87776fc525c4731f60a72a321c05c\n",
      "C:\\Users\\Temen-ni-gru\\Desktop\\Пiтончик\\repo\\homework\\.git\\objects\\07\\158f3a3a250e8134962bc19839841fa01b8dd2\n",
      "C:\\Users\\Temen-ni-gru\\Desktop\\Пiтончик\\repo\\homework\\.git\\objects\\07\\73c1a8ec7575956784ae82e4f121dea0bf27d4\n",
      "C:\\Users\\Temen-ni-gru\\Desktop\\Пiтончик\\repo\\homework\\.git\\objects\\07\\d9524610a9c005f417a7dd1ff13a580cb1a42c\n",
      "C:\\Users\\Temen-ni-gru\\Desktop\\Пiтончик\\repo\\homework\\.git\\objects\\09\\2a32f8ef2b6a47ffc7fa6c9bf286cb1e77cc09\n",
      "C:\\Users\\Temen-ni-gru\\Desktop\\Пiтончик\\repo\\homework\\.git\\objects\\0b\\dd207f13e8860ae7f2e62e46003d854812f07d\n",
      "C:\\Users\\Temen-ni-gru\\Desktop\\Пiтончик\\repo\\homework\\.git\\objects\\11\\e5405595e7861f114d8a1ae936e36db3dceae3\n",
      "C:\\Users\\Temen-ni-gru\\Desktop\\Пiтончик\\repo\\homework\\.git\\objects\\12\\53647b30172d4509093359ae21621e7ed13a29\n",
      "C:\\Users\\Temen-ni-gru\\Desktop\\Пiтончик\\repo\\homework\\.git\\objects\\13\\049ec402075ec28f460953b0953009a9e5a538\n",
      "C:\\Users\\Temen-ni-gru\\Desktop\\Пiтончик\\repo\\homework\\.git\\objects\\14\\2ce4a0afbd59d5510c140735f0f8444acffd22\n",
      "C:\\Users\\Temen-ni-gru\\Desktop\\Пiтончик\\repo\\homework\\.git\\objects\\17\\855bb48b0e2f414d1ff5211268f9a99bc38b20\n",
      "C:\\Users\\Temen-ni-gru\\Desktop\\Пiтончик\\repo\\homework\\.git\\objects\\17\\8dd61c5c6bf04779da2c6bd84098091c01a2d1\n",
      "C:\\Users\\Temen-ni-gru\\Desktop\\Пiтончик\\repo\\homework\\.git\\objects\\1a\\1a3f2eb2439f7ae83150062897daecede4caeb\n",
      "C:\\Users\\Temen-ni-gru\\Desktop\\Пiтончик\\repo\\homework\\.git\\objects\\22\\43c7bade23afdfe58a9db2a4f9eb295e1c9ab6\n",
      "C:\\Users\\Temen-ni-gru\\Desktop\\Пiтончик\\repo\\homework\\.git\\objects\\22\\f40fe51cc13cfc11869ecca4504524a28afc72\n",
      "C:\\Users\\Temen-ni-gru\\Desktop\\Пiтончик\\repo\\homework\\.git\\objects\\23\\fd300491200f2fe22d5b68f4c241f013de0c1f\n",
      "C:\\Users\\Temen-ni-gru\\Desktop\\Пiтончик\\repo\\homework\\.git\\objects\\28\\24b85bf917b2987b9502e89547530a63666029\n",
      "C:\\Users\\Temen-ni-gru\\Desktop\\Пiтончик\\repo\\homework\\.git\\objects\\2c\\99ec1d4296e733039f74d989a156ae038e72cb\n",
      "C:\\Users\\Temen-ni-gru\\Desktop\\Пiтончик\\repo\\homework\\.git\\objects\\31\\07ad976da19aed14e76b38ae6966fbd97d27e9\n",
      "C:\\Users\\Temen-ni-gru\\Desktop\\Пiтончик\\repo\\homework\\.git\\objects\\31\\4c0c903d87940faf95b5111ea2f9eb5b5241ba\n",
      "C:\\Users\\Temen-ni-gru\\Desktop\\Пiтончик\\repo\\homework\\.git\\objects\\31\\de5fc16906fc4d76eb9f1bec3e4c8ad21022b4\n",
      "C:\\Users\\Temen-ni-gru\\Desktop\\Пiтончик\\repo\\homework\\.git\\objects\\35\\59d4ba8c6df4dc7755d3d374d90c74cadb3e12\n",
      "C:\\Users\\Temen-ni-gru\\Desktop\\Пiтончик\\repo\\homework\\.git\\objects\\37\\93943b1d24417eea37bf08541464b35cb4e8b0\n",
      "C:\\Users\\Temen-ni-gru\\Desktop\\Пiтончик\\repo\\homework\\.git\\objects\\3d\\7addba23eff0bc06bbef2066248f3fbaa0eb9e\n",
      "C:\\Users\\Temen-ni-gru\\Desktop\\Пiтончик\\repo\\homework\\.git\\objects\\40\\df518ef86732d6d21754fe2218509e862be16c\n",
      "C:\\Users\\Temen-ni-gru\\Desktop\\Пiтончик\\repo\\homework\\.git\\objects\\42\\2b268c4ed0ee0fd98a9b91e131b3c7b06f219f\n",
      "C:\\Users\\Temen-ni-gru\\Desktop\\Пiтончик\\repo\\homework\\.git\\objects\\43\\c04229b4365b3301a8c68e6bdf232af3b158cf\n",
      "C:\\Users\\Temen-ni-gru\\Desktop\\Пiтончик\\repo\\homework\\.git\\objects\\49\\46161288496013fa3cc567899fcd3b8c1fef64\n",
      "C:\\Users\\Temen-ni-gru\\Desktop\\Пiтончик\\repo\\homework\\.git\\objects\\49\\9715f6c8212c9c4ef8051017e6b12c8500d353\n",
      "C:\\Users\\Temen-ni-gru\\Desktop\\Пiтончик\\repo\\homework\\.git\\objects\\4b\\a6367fddc0ee520cbef724842fff8b43192aed\n",
      "C:\\Users\\Temen-ni-gru\\Desktop\\Пiтончик\\repo\\homework\\.git\\objects\\4e\\b8f101a02092d41ae94d7eac2ae9c432e391dd\n",
      "C:\\Users\\Temen-ni-gru\\Desktop\\Пiтончик\\repo\\homework\\.git\\objects\\51\\5351c1851ef6281bc779fccac96a48f3237144\n",
      "C:\\Users\\Temen-ni-gru\\Desktop\\Пiтончик\\repo\\homework\\.git\\objects\\54\\ed1550fa2a92b2016c74fae1a213bf13773072\n",
      "C:\\Users\\Temen-ni-gru\\Desktop\\Пiтончик\\repo\\homework\\.git\\objects\\55\\481f413963e97f0a7e1c2909e05f803b767e34\n",
      "C:\\Users\\Temen-ni-gru\\Desktop\\Пiтончик\\repo\\homework\\.git\\objects\\57\\7e419f93f122061d39a4487e815c94899b1996\n",
      "C:\\Users\\Temen-ni-gru\\Desktop\\Пiтончик\\repo\\homework\\.git\\objects\\5b\\09f1e38bdb7e1e8894a0d6457c400fdc3b1f94\n",
      "C:\\Users\\Temen-ni-gru\\Desktop\\Пiтончик\\repo\\homework\\.git\\objects\\61\\a512df6de32709bbd3e667eefb6346e94727cb\n",
      "C:\\Users\\Temen-ni-gru\\Desktop\\Пiтончик\\repo\\homework\\.git\\objects\\67\\86d6c21c4ccb6c1f0ef91b4c8f1af33399b522\n",
      "C:\\Users\\Temen-ni-gru\\Desktop\\Пiтончик\\repo\\homework\\.git\\objects\\67\\ffe28bdfb3d94d3cb01d6728cf9a24c23bce57\n",
      "C:\\Users\\Temen-ni-gru\\Desktop\\Пiтончик\\repo\\homework\\.git\\objects\\6c\\3ef24f65ad6932599907aa18f711f7d0625090\n",
      "C:\\Users\\Temen-ni-gru\\Desktop\\Пiтончик\\repo\\homework\\.git\\objects\\6c\\b03d00f3a7da608e47556c5c364c8abca207e0\n",
      "C:\\Users\\Temen-ni-gru\\Desktop\\Пiтончик\\repo\\homework\\.git\\objects\\6c\\fd1b41568140e251fca770437371dae6a38dff\n",
      "C:\\Users\\Temen-ni-gru\\Desktop\\Пiтончик\\repo\\homework\\.git\\objects\\6e\\a51233e79c3fe0759c446e9629ec34f9bfdf54\n",
      "C:\\Users\\Temen-ni-gru\\Desktop\\Пiтончик\\repo\\homework\\.git\\objects\\72\\ddb12646961ba81ce57d59107ba1eea42a5743\n",
      "C:\\Users\\Temen-ni-gru\\Desktop\\Пiтончик\\repo\\homework\\.git\\objects\\73\\b9d2f3c31d993de081e80ac1c3d651da7a9174\n",
      "C:\\Users\\Temen-ni-gru\\Desktop\\Пiтончик\\repo\\homework\\.git\\objects\\74\\4910b40150d83bf316c5ff5eb11c870fa035b8\n",
      "C:\\Users\\Temen-ni-gru\\Desktop\\Пiтончик\\repo\\homework\\.git\\objects\\75\\dc0689064dfa1d0cc28ae9a581737c1a732734\n",
      "C:\\Users\\Temen-ni-gru\\Desktop\\Пiтончик\\repo\\homework\\.git\\objects\\77\\b21243ec0897b63d0c9c9d15422aa110521f7b\n",
      "C:\\Users\\Temen-ni-gru\\Desktop\\Пiтончик\\repo\\homework\\.git\\objects\\78\\08a6d7b55e45be7d102dd08972085fd73bf64f\n",
      "C:\\Users\\Temen-ni-gru\\Desktop\\Пiтончик\\repo\\homework\\.git\\objects\\79\\078eace64e376729ee30a485a529f5e08e432b\n",
      "C:\\Users\\Temen-ni-gru\\Desktop\\Пiтончик\\repo\\homework\\.git\\objects\\7b\\345dfd57001867bbabb471d4318a2c34f9932c\n",
      "C:\\Users\\Temen-ni-gru\\Desktop\\Пiтончик\\repo\\homework\\.git\\objects\\7d\\8302900114b3d99ab588c324b860d3036d96ac\n",
      "C:\\Users\\Temen-ni-gru\\Desktop\\Пiтончик\\repo\\homework\\.git\\objects\\80\\9201a7be9c871fff49d67e9078eadee72d3e3f\n",
      "C:\\Users\\Temen-ni-gru\\Desktop\\Пiтончик\\repo\\homework\\.git\\objects\\83\\df2c0449a69ecf416f36adc415b2add9e5ed48\n",
      "C:\\Users\\Temen-ni-gru\\Desktop\\Пiтончик\\repo\\homework\\.git\\objects\\84\\23b9a333fb9159be07dc1a939ca000e8d83700\n",
      "C:\\Users\\Temen-ni-gru\\Desktop\\Пiтончик\\repo\\homework\\.git\\objects\\89\\4a44cc066a027465cd26d634948d56d13af9af\n",
      "C:\\Users\\Temen-ni-gru\\Desktop\\Пiтончик\\repo\\homework\\.git\\objects\\89\\7169eb71510142e8d23df388db2fbaadd22fb7\n",
      "C:\\Users\\Temen-ni-gru\\Desktop\\Пiтончик\\repo\\homework\\.git\\objects\\89\\d7a3ddc0e8dc517f315ba8523a8b17f97be1c1\n",
      "C:\\Users\\Temen-ni-gru\\Desktop\\Пiтончик\\repo\\homework\\.git\\objects\\8a\\bf8f5b52a2e7226218f435a44eee5070401134\n",
      "C:\\Users\\Temen-ni-gru\\Desktop\\Пiтончик\\repo\\homework\\.git\\objects\\8e\\59c2f20e7b84207c64570fb5ca0104fb4796df\n",
      "C:\\Users\\Temen-ni-gru\\Desktop\\Пiтончик\\repo\\homework\\.git\\objects\\94\\7abed51c6a9f07ebbaa8a7bb35fa0c06b84880\n",
      "C:\\Users\\Temen-ni-gru\\Desktop\\Пiтончик\\repo\\homework\\.git\\objects\\97\\db1bd2e6bdfb48a43afc72679094e620514e7d\n",
      "C:\\Users\\Temen-ni-gru\\Desktop\\Пiтончик\\repo\\homework\\.git\\objects\\98\\081dbf9f6650df247f37910d899c33ed740d47\n",
      "C:\\Users\\Temen-ni-gru\\Desktop\\Пiтончик\\repo\\homework\\.git\\objects\\99\\29592866b467f0f7be4dfd16a567f8ba158f49\n",
      "C:\\Users\\Temen-ni-gru\\Desktop\\Пiтончик\\repo\\homework\\.git\\objects\\9a\\962193b1e55b166a0ddab908a8571ef9e1c831\n",
      "C:\\Users\\Temen-ni-gru\\Desktop\\Пiтончик\\repo\\homework\\.git\\objects\\9f\\cc8d23279d00500ac96f349deb44f916b927e0\n",
      "C:\\Users\\Temen-ni-gru\\Desktop\\Пiтончик\\repo\\homework\\.git\\objects\\a0\\b9b3de4b6bb5e5ae8e6490f610546b9eb77928\n",
      "C:\\Users\\Temen-ni-gru\\Desktop\\Пiтончик\\repo\\homework\\.git\\objects\\a3\\e8ba26b41d610972330a26a59705f3c2430a95\n",
      "C:\\Users\\Temen-ni-gru\\Desktop\\Пiтончик\\repo\\homework\\.git\\objects\\a5\\61bdf994eacaaa2dba83226258584ce2104d63\n",
      "C:\\Users\\Temen-ni-gru\\Desktop\\Пiтончик\\repo\\homework\\.git\\objects\\a8\\ce50ad67de13829a4a41a65491f1a9602f2848\n",
      "C:\\Users\\Temen-ni-gru\\Desktop\\Пiтончик\\repo\\homework\\.git\\objects\\ab\\7471895bf4bbf89d6054176ecbfb08ecceab8e\n",
      "C:\\Users\\Temen-ni-gru\\Desktop\\Пiтончик\\repo\\homework\\.git\\objects\\ad\\c089272db8606769c035481cd3d2d5ca71bedc\n",
      "C:\\Users\\Temen-ni-gru\\Desktop\\Пiтончик\\repo\\homework\\.git\\objects\\ae\\e37af5c2a538cfd3fd2339d7475dfd89ae3bfe\n",
      "C:\\Users\\Temen-ni-gru\\Desktop\\Пiтончик\\repo\\homework\\.git\\objects\\b8\\a528c5b3688eddab5ee04bbfe5953ef886207b\n",
      "C:\\Users\\Temen-ni-gru\\Desktop\\Пiтончик\\repo\\homework\\.git\\objects\\ba\\40f7c63b95a8c765553344888bfcae90ba1262\n",
      "C:\\Users\\Temen-ni-gru\\Desktop\\Пiтончик\\repo\\homework\\.git\\objects\\bc\\914d840b2630fdbd94dc845119a8d198418043\n",
      "C:\\Users\\Temen-ni-gru\\Desktop\\Пiтончик\\repo\\homework\\.git\\objects\\c1\\7f8feba3cd932021377007ae392f8564770bff\n",
      "C:\\Users\\Temen-ni-gru\\Desktop\\Пiтончик\\repo\\homework\\.git\\objects\\c3\\ff8fec4b369f23ce05bc93eba9c5f06bd21f9d\n",
      "C:\\Users\\Temen-ni-gru\\Desktop\\Пiтончик\\repo\\homework\\.git\\objects\\c7\\d4b2cb956f8c82690d5e409d5a565bd3e5ac48\n",
      "C:\\Users\\Temen-ni-gru\\Desktop\\Пiтончик\\repo\\homework\\.git\\objects\\c8\\bb9777d73b3ef0b907a126b5c95fd1d2450d7a\n",
      "C:\\Users\\Temen-ni-gru\\Desktop\\Пiтончик\\repo\\homework\\.git\\objects\\ca\\52155979d85fa27d401c86ff3ae3e1803ba7a2\n",
      "C:\\Users\\Temen-ni-gru\\Desktop\\Пiтончик\\repo\\homework\\.git\\objects\\cf\\0e640fc438fc67f0c2a50df2a539b50122fd45\n",
      "C:\\Users\\Temen-ni-gru\\Desktop\\Пiтончик\\repo\\homework\\.git\\objects\\d2\\08997f5d7d48165247bdcf20a62234f72880c9\n",
      "C:\\Users\\Temen-ni-gru\\Desktop\\Пiтончик\\repo\\homework\\.git\\objects\\d3\\29023056eecf1cbeb5ce080c1e98423dc0d78a\n",
      "C:\\Users\\Temen-ni-gru\\Desktop\\Пiтончик\\repo\\homework\\.git\\objects\\d5\\8289f81ea1312681ee0923f20254d64a00ccce\n",
      "C:\\Users\\Temen-ni-gru\\Desktop\\Пiтончик\\repo\\homework\\.git\\objects\\d6\\2164e53bbd084f512de82ca80c76a1095653bf\n",
      "C:\\Users\\Temen-ni-gru\\Desktop\\Пiтончик\\repo\\homework\\.git\\objects\\dd\\298e0f6eeeba2e71f05bd676f657c442b670a4\n",
      "C:\\Users\\Temen-ni-gru\\Desktop\\Пiтончик\\repo\\homework\\.git\\objects\\e6\\745289424b0680675a0415762c4411ea0cffe4\n",
      "C:\\Users\\Temen-ni-gru\\Desktop\\Пiтончик\\repo\\homework\\.git\\objects\\e6\\9de29bb2d1d6434b8b29ae775ad8c2e48c5391\n",
      "C:\\Users\\Temen-ni-gru\\Desktop\\Пiтончик\\repo\\homework\\.git\\objects\\e6\\bacdaae24a4d98e534907741f74fa62565db03\n",
      "C:\\Users\\Temen-ni-gru\\Desktop\\Пiтончик\\repo\\homework\\.git\\objects\\e9\\ecef5e8f5e85eb5d19ac535d82bada3782a243\n",
      "C:\\Users\\Temen-ni-gru\\Desktop\\Пiтончик\\repo\\homework\\.git\\objects\\eb\\b37cd089dd34cf77f5c1523886f17b86c42758\n",
      "C:\\Users\\Temen-ni-gru\\Desktop\\Пiтончик\\repo\\homework\\.git\\objects\\ee\\26fd1e968511378e82cf3b372e0f31235078cc\n",
      "C:\\Users\\Temen-ni-gru\\Desktop\\Пiтончик\\repo\\homework\\.git\\objects\\ee\\ba5422ee082a6386a7a855d1a380c548e8589b\n",
      "C:\\Users\\Temen-ni-gru\\Desktop\\Пiтончик\\repo\\homework\\.git\\objects\\f0\\90aff98f9609ef9e6cb896f1cb11f21a81f3a9\n",
      "C:\\Users\\Temen-ni-gru\\Desktop\\Пiтончик\\repo\\homework\\.git\\objects\\f1\\f0fc94cdc2bb452a3085d1894dfec581b0d63c\n",
      "C:\\Users\\Temen-ni-gru\\Desktop\\Пiтончик\\repo\\homework\\.git\\objects\\f3\\202847349fea36fe0eb8583e3f13ba332920dc\n",
      "C:\\Users\\Temen-ni-gru\\Desktop\\Пiтончик\\repo\\homework\\.git\\objects\\fa\\6d35dad57a8ec82f5b8c109e72551a094476a5\n",
      "C:\\Users\\Temen-ni-gru\\Desktop\\Пiтончик\\repo\\homework\\.git\\objects\\fb\\ec861b34e83ec971696a7307c8c5ce8028d51b\n",
      "C:\\Users\\Temen-ni-gru\\Desktop\\Пiтончик\\repo\\homework\\.git\\objects\\fd\\629a1c7ab912041edd5c4a247babb377ddc6d0\n",
      "C:\\Users\\Temen-ni-gru\\Desktop\\Пiтончик\\repo\\homework\\.git\\refs\\heads\\master\n",
      "C:\\Users\\Temen-ni-gru\\Desktop\\Пiтончик\\repo\\homework\\.git\\refs\\remotes\\origin\\HEAD\n",
      "C:\\Users\\Temen-ni-gru\\Desktop\\Пiтончик\\repo\\homework\\.git\\refs\\remotes\\origin\\master\n",
      "C:\\Users\\Temen-ni-gru\\Desktop\\Пiтончик\\repo\\homework\\.ipynb_checkpoints\\HW1-checkpoint.ipynb\n",
      "C:\\Users\\Temen-ni-gru\\Desktop\\Пiтончик\\repo\\homework\\.ipynb_checkpoints\\HW2-checkpoint.ipynb\n",
      "C:\\Users\\Temen-ni-gru\\Desktop\\Пiтончик\\repo\\homework\\poems\\боль.txt\n",
      "C:\\Users\\Temen-ni-gru\\Desktop\\Пiтончик\\repo\\homework\\poems\\ворон.txt\n",
      "C:\\Users\\Temen-ni-gru\\Desktop\\Пiтончик\\repo\\homework\\poems\\деды.txt\n",
      "C:\\Users\\Temen-ni-gru\\Desktop\\Пiтончик\\repo\\homework\\poems\\кладь.txt\n",
      "C:\\Users\\Temen-ni-gru\\Desktop\\Пiтончик\\repo\\homework\\poems\\ночь.txt\n",
      "C:\\Users\\Temen-ni-gru\\Desktop\\Пiтончик\\repo\\homework\\poems\\шредингер.txt\n",
      "C:\\Users\\Temen-ni-gru\\Desktop\\Пiтончик\\repo\\homework\\poems\\котики\\кот.txt\n",
      "C:\\Users\\Temen-ni-gru\\Desktop\\Пiтончик\\repo\\homework\\poems\\котики\\лео.txt\n",
      "C:\\Users\\Temen-ni-gru\\Desktop\\Пiтончик\\repo\\homework\\poems\\котики\\пушок.txt\n",
      "C:\\Users\\Temen-ni-gru\\Desktop\\Пiтончик\\repo\\homework\\poems\\сказки\\гримм.txt\n",
      "C:\\Users\\Temen-ni-gru\\Desktop\\Пiтончик\\repo\\homework\\poems\\сказки\\королевич.txt\n",
      "C:\\Users\\Temen-ni-gru\\Desktop\\Пiтончик\\repo\\homework\\poems\\сказки\\король.txt\n",
      "C:\\Users\\Temen-ni-gru\\Desktop\\Пiтончик\\repo\\homework\\poems\\сказки\\крестная.txt\n",
      "C:\\Users\\Temen-ni-gru\\Desktop\\Пiтончик\\repo\\homework\\poems\\сказки\\яга.txt\n",
      "Количество файлов:  150\n"
     ]
    }
   ],
   "source": [
    "# Импортирую библиотеку\n",
    "import os \n",
    "\n",
    "# Привязываю к переменной путь, чтобы постоянно не вызывать os.getcwd()\n",
    "deway = os.getcwd()\n",
    "\n",
    "# Функция распечатывает текущую директорию и список всех файлов и папок\n",
    "for root, dirs, files in os.walk(deway):\n",
    "    for name in files:\n",
    "        fullname = os.path.join(root, name)\n",
    "        print(fullname)\n",
    "\n",
    "# При помощи генератора списков подсчитываю количество файлов в папке\n",
    "number = sum((len(files) for root, dirs, files in os.walk(deway)))\n",
    "print('Количество файлов: ', number) "
   ]
  },
  {
   "cell_type": "markdown",
   "metadata": {},
   "source": [
    "3. Пройтись циклом по рабочей директории, читая содержимое каждого файла и записывая его в новый файл poems.txt По завершении цикла должен получиться файл со всеми стихотворениями!"
   ]
  },
  {
   "cell_type": "code",
   "execution_count": 327,
   "metadata": {
    "scrolled": true
   },
   "outputs": [
    {
     "name": "stdout",
     "output_type": "stream",
     "text": [
      "а боль у вас какого рода \n",
      "спросил дежурный врач а я \n",
      "как на духу она ответил \n",
      "мояамериканский чорный ворон \n",
      "как наш красив и голосист \n",
      "но попроси не виться сразу \n",
      "расистна спиритическом сеансе \n",
      "желая водки и еды \n",
      "привычно вызывали духов \n",
      "деды мы б вас охотно пропустили \n",
      "с ручною кладью но пока \n",
      "она у вас недопустимо \n",
      "дика ночь улица фонарь аптека \n",
      "вдруг вспомнил что утюг включон \n",
      "акетпа ираноф ацилу \n",
      "и ьчонприходит муж домой пораньше \n",
      "измену в нём предположив \n",
      "а шрёдингер в шкафу не мёртв и \n",
      "не живкот по цепи идёт направо \n",
      "и упирается в щиток \n",
      "а от щитка идя налево \n",
      "он токзагримирован под медведя \n",
      "кот гнал ди каприо по льду \n",
      "и все кричали оскар лео \n",
      "польду пушок пушок кричит хозяйка \n",
      "а мы сидим невдалеке \n",
      "и ухмыляемся а рыльца \n",
      "в пушкеидут по лесу братья гриммы \n",
      "и вырубают топором \n",
      "всех тех кто был уже написан \n",
      "перром третьеразрядный королевич \n",
      "побил дракона как герой \n",
      "царевну вызволил и сдал на \n",
      "второй на платье новое дивится \n",
      "и восторгается страна \n",
      "вдруг кто то крикнул а король то \n",
      "онаа если принц тебя обидит \n",
      "поверь тогда ему конец \n",
      "ведь я не крёстная а крёстный \n",
      "отецклюку на рынке выбирая \n",
      "яга сказала дайте две \n",
      "я кэмээс по скандинавской \n",
      "ходьбе\n"
     ]
    }
   ],
   "source": [
    "import os\n",
    "        \n",
    "with open('poem.txt', 'w', encoding='utf-8') as f: \n",
    "    # С помощью for и .endswith нахожу .txt файлы\n",
    "    for root, dirs, files in os.walk(deway):\n",
    "        for file in files:\n",
    "            if file.endswith(\".txt\"):\n",
    "                # Найдя их, я открываю их, и переписываю содержимое в переменную\n",
    "                 f1 = open(os.path.join(root, file), encoding='utf-8')\n",
    "                 contents = f1.read()\n",
    "                # Полученный результат построчно перевожу в poem.txt\n",
    "                 for line in contents:\n",
    "                    f.write(line)\n",
    "\n",
    "# Еще раз открываю текстовый файл, чтобы проверить результат\n",
    "with open('poem.txt', 'r', encoding='utf-8') as f:\n",
    "    poem = f.read()\n",
    "    print(poem)"
   ]
  },
  {
   "cell_type": "markdown",
   "metadata": {},
   "source": [
    "# Задание 3\n",
    "\n",
    "**Удивительная кошка**\n",
    "\n",
    "Несчастная кошка порезала лапу- <br>\n",
    "Сидит, и ни шагу не может ступить.<br>\n",
    "Скорей, чтобы вылечить кошкину лапу<br>\n",
    "Воздушные шарики надо купить!<br>\n",
    "<br>\n",
    "И сразу столпился народ на дороге-<br>\n",
    "Шумит, и кричит, и на кошку глядит.<br>\n",
    "А кошка отчасти идет по дороге,<br>\n",
    "Отчасти по воздуху плавно летит!<br>\n",
    "\n",
    "1. Скопировать текст, сохранить его в переменную.\n",
    "2. Узнать длину текста в символах.\n",
    "3. Очистить текст от пунктуации, используя list compehensions. На выходе должен получиться список слов.\n",
    "4. Объединить слова из получившегося списка в строку через пробел.\n",
    "5. С помощью list comprehensions проверить, написано ли слово с большой буквы, и если да, то привести его к нижнему регистру. На выходе должен получиться список из всех слов стихотворения, написанных с маленькой буквы (не только те, которые изначально были с маленькой буквы, а все).\n",
    "6. Узнать длину текста в словах.\n",
    "7. Узнать количество уникальных слов.\n",
    "8. Распечатать последние 10 слов.\n",
    "9. Соединить полученный в пункте 3 список в строку. Слова в строке должны быть написаны через знак переноса строки.\n",
    "10. Распечатать с 20 по 30 символ этой строки (включительно).\n",
    "11. Разбить текст на биграммы, записать их в переменную и посчитать частотность каждой биграммы. Биграммы должны быть в виде списка кортежей."
   ]
  },
  {
   "cell_type": "markdown",
   "metadata": {},
   "source": [
    "1. Скопировать текст, сохранить его в переменную."
   ]
  },
  {
   "cell_type": "code",
   "execution_count": 328,
   "metadata": {},
   "outputs": [],
   "source": [
    "cat = '''\n",
    "Удивительная кошка\n",
    "\n",
    "Несчастная кошка порезала лапу- \n",
    "Сидит, и ни шагу не может ступить.\n",
    "Скорей, чтобы вылечить кошкину лапу\n",
    "Воздушные шарики надо купить!\n",
    "\n",
    "И сразу столпился народ на дороге-\n",
    "Шумит, и кричит, и на кошку глядит.\n",
    "А кошка отчасти идет по дороге,\n",
    "Отчасти по воздуху плавно летит!\n",
    "'''"
   ]
  },
  {
   "cell_type": "markdown",
   "metadata": {},
   "source": [
    "2. Узнать длину текста в символах."
   ]
  },
  {
   "cell_type": "code",
   "execution_count": 329,
   "metadata": {},
   "outputs": [
    {
     "name": "stdout",
     "output_type": "stream",
     "text": [
      "Количество символов (без пробелов и переносов строки): 242\n"
     ]
    }
   ],
   "source": [
    "# При помощи довольно корявой (но наглядной!) конструкции получаю точное количество символов\n",
    "symbols = len(cat) - cat.count(' ') - cat.count('\\n')\n",
    "# Демонстрирую результат\n",
    "print('Количество символов (без пробелов и переносов строки):', symbols)"
   ]
  },
  {
   "cell_type": "markdown",
   "metadata": {},
   "source": [
    "3. Очистить текст от пунктуации, используя list compehensions. На выходе должен получиться список слов."
   ]
  },
  {
   "cell_type": "code",
   "execution_count": 330,
   "metadata": {},
   "outputs": [
    {
     "name": "stdout",
     "output_type": "stream",
     "text": [
      "['Удивительная', 'кошка', 'Несчастная', 'кошка', 'порезала', 'лапу', 'Сидит', 'и', 'ни', 'шагу', 'не', 'может', 'ступить', 'Скорей', 'чтобы', 'вылечить', 'кошкину', 'лапу', 'Воздушные', 'шарики', 'надо', 'купить', 'И', 'сразу', 'столпился', 'народ', 'на', 'дороге', 'Шумит', 'и', 'кричит', 'и', 'на', 'кошку', 'глядит', 'А', 'кошка', 'отчасти', 'идет', 'по', 'дороге', 'Отчасти', 'по', 'воздуху', 'плавно', 'летит']\n"
     ]
    }
   ],
   "source": [
    "# Импортирую переменную с пунктуацией\n",
    "from string import punctuation\n",
    "\n",
    "# При помощи генератора списков очищаю каждое слово от знаков и сразу добавляю в список\n",
    "cat_list = [w.strip(punctuation) for w in cat.split()]\n",
    "\n",
    "# Печатаю результат\n",
    "print(cat_list)"
   ]
  },
  {
   "cell_type": "markdown",
   "metadata": {},
   "source": [
    "4. Объединить слова из получившегося списка в строку через пробел."
   ]
  },
  {
   "cell_type": "code",
   "execution_count": 331,
   "metadata": {},
   "outputs": [
    {
     "name": "stdout",
     "output_type": "stream",
     "text": [
      "Удивительная кошка Несчастная кошка порезала лапу Сидит и ни шагу не может ступить Скорей чтобы вылечить кошкину лапу Воздушные шарики надо купить И сразу столпился народ на дороге Шумит и кричит и на кошку глядит А кошка отчасти идет по дороге Отчасти по воздуху плавно летит\n"
     ]
    }
   ],
   "source": [
    "# При помощи join добавляю между словами пробелы и записываю в переменную\n",
    "cat_string = ' '.join(cat_list)\n",
    "\n",
    "# Печатаю получившийся результат\n",
    "print(cat_string)"
   ]
  },
  {
   "cell_type": "markdown",
   "metadata": {},
   "source": [
    "5. С помощью list comprehensions проверить, написано ли слово с большой буквы, и если да, то привести его к нижнему регистру. На выходе должен получиться список из всех слов стихотворения, написанных с маленькой буквы (не только те, которые изначально были с маленькой буквы, а все)."
   ]
  },
  {
   "cell_type": "code",
   "execution_count": 332,
   "metadata": {},
   "outputs": [
    {
     "name": "stdout",
     "output_type": "stream",
     "text": [
      "['удивительная', 'кошка', 'несчастная', 'кошка', 'порезала', 'лапу', 'сидит', 'и', 'ни', 'шагу', 'не', 'может', 'ступить', 'скорей', 'чтобы', 'вылечить', 'кошкину', 'лапу', 'воздушные', 'шарики', 'надо', 'купить', 'и', 'сразу', 'столпился', 'народ', 'на', 'дороге', 'шумит', 'и', 'кричит', 'и', 'на', 'кошку', 'глядит', 'а', 'кошка', 'отчасти', 'идет', 'по', 'дороге', 'отчасти', 'по', 'воздуху', 'плавно', 'летит']\n"
     ]
    }
   ],
   "source": [
    "# Для удобства я обратился не к cat_string, а к списку cat_list\n",
    "cat_low = [w.lower() for w in cat_list if w.upper()]\n",
    "\n",
    "# Печатаю результат\n",
    "print(cat_low)"
   ]
  },
  {
   "cell_type": "markdown",
   "metadata": {},
   "source": [
    "6. Узнать длину текста в словах."
   ]
  },
  {
   "cell_type": "code",
   "execution_count": 333,
   "metadata": {},
   "outputs": [
    {
     "name": "stdout",
     "output_type": "stream",
     "text": [
      "Количество слов: 46\n"
     ]
    }
   ],
   "source": [
    "print('Количество слов:', len(cat_low))"
   ]
  },
  {
   "cell_type": "markdown",
   "metadata": {},
   "source": [
    "7. Узнать количество уникальных слов."
   ]
  },
  {
   "cell_type": "code",
   "execution_count": 334,
   "metadata": {},
   "outputs": [
    {
     "name": "stdout",
     "output_type": "stream",
     "text": [
      "Количество уникальных слов: 36\n"
     ]
    }
   ],
   "source": [
    "# При помощи set устраняю копии, а затем подсчитываю количество оставшихся\n",
    "\n",
    "print('Количество уникальных слов:', len(set(cat_low)))"
   ]
  },
  {
   "cell_type": "markdown",
   "metadata": {},
   "source": [
    "8. Распечатать последние 10 слов."
   ]
  },
  {
   "cell_type": "code",
   "execution_count": 335,
   "metadata": {},
   "outputs": [
    {
     "name": "stdout",
     "output_type": "stream",
     "text": [
      "['кошка', 'отчасти', 'идет', 'по', 'дороге', 'отчасти', 'по', 'воздуху', 'плавно', 'летит']\n"
     ]
    }
   ],
   "source": [
    "# Вызываю десять элементов с конца списка\n",
    "\n",
    "print(cat_low[-10:])"
   ]
  },
  {
   "cell_type": "markdown",
   "metadata": {},
   "source": [
    "9. Соединить полученный в пункте 3 список в строку. Слова в строке должны быть написаны через знак переноса строки."
   ]
  },
  {
   "cell_type": "code",
   "execution_count": 336,
   "metadata": {},
   "outputs": [
    {
     "name": "stdout",
     "output_type": "stream",
     "text": [
      "Удивительная\n",
      "кошка\n",
      "Несчастная\n",
      "кошка\n",
      "порезала\n",
      "лапу\n",
      "Сидит\n",
      "и\n",
      "ни\n",
      "шагу\n",
      "не\n",
      "может\n",
      "ступить\n",
      "Скорей\n",
      "чтобы\n",
      "вылечить\n",
      "кошкину\n",
      "лапу\n",
      "Воздушные\n",
      "шарики\n",
      "надо\n",
      "купить\n",
      "И\n",
      "сразу\n",
      "столпился\n",
      "народ\n",
      "на\n",
      "дороге\n",
      "Шумит\n",
      "и\n",
      "кричит\n",
      "и\n",
      "на\n",
      "кошку\n",
      "глядит\n",
      "А\n",
      "кошка\n",
      "отчасти\n",
      "идет\n",
      "по\n",
      "дороге\n",
      "Отчасти\n",
      "по\n",
      "воздуху\n",
      "плавно\n",
      "летит\n"
     ]
    }
   ],
   "source": [
    "# Конструкция повторяет сделанную мною в четвертом пункте\n",
    "\n",
    "cat_stringest = '\\n'.join(cat_list)\n",
    "\n",
    "print(cat_stringest)"
   ]
  },
  {
   "cell_type": "markdown",
   "metadata": {},
   "source": [
    "10. Распечатать с 20 по 30 символ этой строки (включительно)."
   ]
  },
  {
   "cell_type": "code",
   "execution_count": 337,
   "metadata": {},
   "outputs": [
    {
     "name": "stdout",
     "output_type": "stream",
     "text": [
      "есчастная\n",
      "к\n"
     ]
    }
   ],
   "source": [
    "# Вызываю индекс от 20 до 31 (поскольку нужно ровно 10 символов)\n",
    "\n",
    "print(cat_stringest[20:31])"
   ]
  },
  {
   "cell_type": "markdown",
   "metadata": {},
   "source": [
    "11. Разбить текст на биграммы, записать их в переменную и посчитать частотность каждой биграммы. Биграммы должны быть в виде списка кортежей."
   ]
  },
  {
   "cell_type": "code",
   "execution_count": 338,
   "metadata": {},
   "outputs": [
    {
     "name": "stdout",
     "output_type": "stream",
     "text": [
      "(('и', 'на'), 1)\n",
      "(('лапу', 'Воздушные'), 1)\n",
      "(('шагу', 'не'), 1)\n",
      "(('народ', 'на'), 1)\n",
      "(('на', 'кошку'), 1)\n",
      "(('столпился', 'народ'), 1)\n",
      "(('кошкину', 'лапу'), 1)\n",
      "(('дороге', 'Шумит'), 1)\n",
      "(('лапу', 'Сидит'), 1)\n",
      "(('ступить', 'Скорей'), 1)\n",
      "(('шарики', 'надо'), 1)\n",
      "(('Сидит', 'и'), 1)\n",
      "(('глядит', 'А'), 1)\n",
      "(('кошка', 'порезала'), 1)\n",
      "(('плавно', 'летит'), 1)\n",
      "(('на', 'дороге'), 1)\n",
      "(('вылечить', 'кошкину'), 1)\n",
      "(('и', 'кричит'), 1)\n",
      "(('Удивительная', 'кошка'), 1)\n",
      "(('кошка', 'отчасти'), 1)\n",
      "(('чтобы', 'вылечить'), 1)\n",
      "(('кричит', 'и'), 1)\n",
      "(('может', 'ступить'), 1)\n",
      "(('по', 'дороге'), 1)\n",
      "(('А', 'кошка'), 1)\n",
      "(('сразу', 'столпился'), 1)\n",
      "(('И', 'сразу'), 1)\n",
      "(('воздуху', 'плавно'), 1)\n",
      "(('и', 'ни'), 1)\n",
      "(('Шумит', 'и'), 1)\n",
      "(('кошка', 'Несчастная'), 1)\n",
      "(('порезала', 'лапу'), 1)\n",
      "(('отчасти', 'идет'), 1)\n",
      "(('идет', 'по'), 1)\n",
      "(('ни', 'шагу'), 1)\n",
      "(('Отчасти', 'по'), 1)\n",
      "(('Скорей', 'чтобы'), 1)\n",
      "(('надо', 'купить'), 1)\n",
      "(('по', 'воздуху'), 1)\n",
      "(('Несчастная', 'кошка'), 1)\n",
      "(('купить', 'И'), 1)\n",
      "(('Воздушные', 'шарики'), 1)\n",
      "(('кошку', 'глядит'), 1)\n",
      "(('дороге', 'Отчасти'), 1)\n",
      "(('не', 'может'), 1)\n"
     ]
    }
   ],
   "source": [
    "# Снова превращаю текст в список\n",
    "cat_dunno = cat_stringest.split()\n",
    "\n",
    "# Переменная для биграмм\n",
    "cat_bgrm = []\n",
    "\n",
    "# Цикл повторяет таковой из первого задания\n",
    "for i in range(len(cat_dunno)-1):\n",
    "    cat_bgrm.append((cat_dunno[i], cat_dunno[i+1]))\n",
    "    \n",
    "# Я решил попробовать подсчитать частотность биграмм с помощью множества\n",
    "mm = [(x, cat_bgrm.count(x)) for x in set(cat_bgrm)]\n",
    "\n",
    "# Печатаю результат. Выглядит коряво, но as long as it works\n",
    "print(*mm, sep='\\n',)"
   ]
  }
 ],
 "metadata": {
  "kernelspec": {
   "display_name": "Python 3",
   "language": "python",
   "name": "python3"
  },
  "language_info": {
   "codemirror_mode": {
    "name": "ipython",
    "version": 3
   },
   "file_extension": ".py",
   "mimetype": "text/x-python",
   "name": "python",
   "nbconvert_exporter": "python",
   "pygments_lexer": "ipython3",
   "version": "3.7.1rc1"
  }
 },
 "nbformat": 4,
 "nbformat_minor": 2
}
