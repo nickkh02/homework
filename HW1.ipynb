{
 "cells": [
  {
   "cell_type": "code",
   "execution_count": 266,
   "metadata": {},
   "outputs": [
    {
     "name": "stdout",
     "output_type": "stream",
     "text": [
      "   _~_       _~_       _~_       _~_       _~_    \n",
      "  (o o)     (o o)     (o o)     (o o)     (o o)   \n",
      " /  V  \\   /  V  \\   /  V  \\   /  V  \\   /  V  \\  \n",
      "/(  _  )\\ /(  _  )\\ /(  _  )\\ /(  _  )\\ /(  _  )\\ \n",
      "  ^^ ^^     ^^ ^^     ^^ ^^     ^^ ^^     ^^ ^^   \n"
     ]
    }
   ],
   "source": [
    "def penguin(x):\n",
    "    for i in [1]: \n",
    "        print ('   _~_    ' * x)\n",
    "        print (\"  (o o)   \" * x)\n",
    "        print (\" /  V  \\\\  \" * x)\n",
    "        print (\"/(  _  )\\\\ \" * x)\n",
    "        print (\"  ^^ ^^   \" * x)\n",
    "\n",
    "penguin(5)"
   ]
  },
  {
   "cell_type": "code",
   "execution_count": 284,
   "metadata": {},
   "outputs": [
    {
     "name": "stdout",
     "output_type": "stream",
     "text": [
      "Количество слов: 2\n",
      "Количество символов (без пробелов): 10\n"
     ]
    }
   ],
   "source": [
    "def owo(x):\n",
    "    words = x.split()\n",
    "    number_words = len(words)\n",
    "    symbols = len(x) - x.count(' ')\n",
    "    print ('Количество слов:', number_words)\n",
    "    print ('Количество символов (без пробелов):', symbols)\n",
    "\n",
    "owo(\"Hello world\")"
   ]
  },
  {
   "cell_type": "code",
   "execution_count": 340,
   "metadata": {},
   "outputs": [
    {
     "name": "stdout",
     "output_type": "stream",
     "text": [
      "r\n",
      "r\n",
      "Abrak\n",
      "Abrakadab\n",
      "Arkdba\n",
      "baaar\n",
      "arbadakarbA\n",
      "abdkrA\n",
      "11\n"
     ]
    }
   ],
   "source": [
    "def strokinator(x):\n",
    "    first = x[2]\n",
    "    second = x[-2]\n",
    "    third = x[:5]\n",
    "    fourth = x[:-2]\n",
    "    fifth = x[0::2]\n",
    "    sixth = x[1::2]\n",
    "    seventh = x[::-1]\n",
    "    eighth = x[::-2]\n",
    "    ninth = len(x)\n",
    "    print (first)\n",
    "    print (second)\n",
    "    print (third)\n",
    "    print (fourth)\n",
    "    print (fifth)\n",
    "    print (sixth)\n",
    "    print (seventh)\n",
    "    print (eighth)\n",
    "    print (ninth)\n",
    "    \n",
    "    \n",
    "strokinator(\"Abrakadabra\")"
   ]
  },
  {
   "cell_type": "code",
   "execution_count": 347,
   "metadata": {},
   "outputs": [
    {
     "name": "stdout",
     "output_type": "stream",
     "text": [
      "YES\n"
     ]
    }
   ],
   "source": [
    "def yesno(x):\n",
    "    napravo = x[::-1]\n",
    "    if x == napravo:\n",
    "        print (\"YES\")\n",
    "    else:\n",
    "        print (\"NO\")\n",
    "    \n",
    "yesno(\"abba\")"
   ]
  },
  {
   "cell_type": "code",
   "execution_count": null,
   "metadata": {},
   "outputs": [],
   "source": []
  }
 ],
 "metadata": {
  "kernelspec": {
   "display_name": "Python 3",
   "language": "python",
   "name": "python3"
  },
  "language_info": {
   "codemirror_mode": {
    "name": "ipython",
    "version": 3
   },
   "file_extension": ".py",
   "mimetype": "text/x-python",
   "name": "python",
   "nbconvert_exporter": "python",
   "pygments_lexer": "ipython3",
   "version": "3.7.0"
  }
 },
 "nbformat": 4,
 "nbformat_minor": 2
}
