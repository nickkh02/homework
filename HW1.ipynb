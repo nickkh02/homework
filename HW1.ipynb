{
 "cells": [
  {
   "cell_type": "code",
   "execution_count": 266,
   "metadata": {},
   "outputs": [
    {
     "name": "stdout",
     "output_type": "stream",
     "text": [
      "   _~_       _~_       _~_       _~_       _~_    \n",
      "  (o o)     (o o)     (o o)     (o o)     (o o)   \n",
      " /  V  \\   /  V  \\   /  V  \\   /  V  \\   /  V  \\  \n",
      "/(  _  )\\ /(  _  )\\ /(  _  )\\ /(  _  )\\ /(  _  )\\ \n",
      "  ^^ ^^     ^^ ^^     ^^ ^^     ^^ ^^     ^^ ^^   \n"
     ]
    }
   ],
   "source": [
    "def penguin(x):\n",
    "    for i in [1]: \n",
    "        print ('   _~_    ' * x)\n",
    "        print (\"  (o o)   \" * x)\n",
    "        print (\" /  V  \\\\  \" * x)\n",
    "        print (\"/(  _  )\\\\ \" * x)\n",
    "        print (\"  ^^ ^^   \" * x)\n",
    "\n",
    "penguin(5)"
   ]
  },
  {
   "cell_type": "code",
   "execution_count": 284,
   "metadata": {},
   "outputs": [
    {
     "name": "stdout",
     "output_type": "stream",
     "text": [
      "Количество слов: 2\n",
      "Количество символов (без пробелов): 10\n"
     ]
    }
   ],
   "source": [
    "def owo(x):\n",
    "    words = x.split()\n",
    "    number_words = len(words)\n",
    "    symbols = len(x) - x.count(' ')\n",
    "    print ('Количество слов:', number_words)\n",
    "    print ('Количество символов (без пробелов):', symbols)\n",
    "\n",
    "owo(\"Hello world\")"
   ]
  },
  {
   "cell_type": "code",
   "execution_count": 273,
   "metadata": {},
   "outputs": [
    {
     "name": "stdout",
     "output_type": "stream",
     "text": [
      "2\n",
      "9\n"
     ]
    }
   ],
   "source": [
    "def strokinator(x):\n",
    "    print "
   ]
  },
  {
   "cell_type": "code",
   "execution_count": null,
   "metadata": {},
   "outputs": [],
   "source": []
  }
 ],
 "metadata": {
  "kernelspec": {
   "display_name": "Python 3",
   "language": "python",
   "name": "python3"
  },
  "language_info": {
   "codemirror_mode": {
    "name": "ipython",
    "version": 3
   },
   "file_extension": ".py",
   "mimetype": "text/x-python",
   "name": "python",
   "nbconvert_exporter": "python",
   "pygments_lexer": "ipython3",
   "version": "3.7.0"
  }
 },
 "nbformat": 4,
 "nbformat_minor": 2
}
